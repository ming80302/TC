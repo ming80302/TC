{
 "cells": [
  {
   "cell_type": "markdown",
   "id": "6fcd2727-387a-469c-8ce0-d1d13e7ce0f3",
   "metadata": {},
   "source": [
    "#### Calculate shear at locations of TC LMI from era5\n",
    "addapted from James get_era5_shear_at_lmi.ncl <br>\n",
    "Ming Ge June 2024"
   ]
  },
  {
   "cell_type": "code",
   "execution_count": 1,
   "id": "476422df-a655-4177-b75a-324a150fcef3",
   "metadata": {},
   "outputs": [],
   "source": [
    "import numpy as np\n",
    "import xarray as xr\n",
    "import pandas as pd\n",
    "from datetime import datetime, timedelta"
   ]
  },
  {
   "cell_type": "markdown",
   "id": "21945ef7-259b-4966-845e-ab544bce825e",
   "metadata": {},
   "source": [
    "#### set up"
   ]
  },
  {
   "cell_type": "code",
   "execution_count": 2,
   "id": "56528ccb-1a1e-47f5-9df5-b22881a48410",
   "metadata": {},
   "outputs": [],
   "source": [
    "lag = 2\n",
    "\n",
    "#  averaging radius in degrees\n",
    "rr = .5"
   ]
  },
  {
   "cell_type": "markdown",
   "id": "d65dec12-8aa2-4f50-9f75-87457f2b1ece",
   "metadata": {},
   "source": [
    "#### read in lmi times/locations"
   ]
  },
  {
   "cell_type": "code",
   "execution_count": 3,
   "id": "5c9f16f6-1759-478f-a586-61f8a5bdafee",
   "metadata": {},
   "outputs": [],
   "source": [
    "flnm = '/glade/work/done/tc_int/Kossin_LMIs_cut.csv'\n",
    "df_lmi = pd.read_csv(flnm, delimiter=',', engine='python')\n",
    "\n",
    "yyyy = df_lmi.kyear.values \n",
    "mm   = df_lmi.kmon.values\n",
    "dd   = df_lmi.kday.values\n",
    "hh   = df_lmi.khour.values\n",
    "\n",
    "yyyys = yyyy.astype(str)\n",
    "mms   = mm.astype(str)\n",
    "dds   = dd.astype(str)\n",
    "hhs   = hh.astype(str)\n",
    "\n",
    "ntim = len(hhs)\n",
    "\n",
    "yyyymmddhh = [None] * ntim\n",
    "for nt in range(ntim):\n",
    "    current_date = datetime(yyyy[nt], mm[nt], dd[nt], hh[nt])\n",
    "    \n",
    "    # Calculate the date of the previous 2 days\n",
    "    datetime_lagged = current_date - timedelta(days=lag)\n",
    "\n",
    "    yyyys[nt] = str(datetime_lagged.year).zfill(2)\n",
    "    mms[nt]   = str(datetime_lagged.month).zfill(2)\n",
    "    dds[nt]   = str(datetime_lagged.day).zfill(2)\n",
    "    hhs[nt]   = str(datetime_lagged.hour).zfill(2)\n",
    "    yyyymmddhh[nt] = yyyys[nt] + mms[nt] + dds[nt] + hhs[nt] "
   ]
  },
  {
   "cell_type": "code",
   "execution_count": 4,
   "id": "3bb65ff3-6aa1-43e2-a038-e8f7c203a8aa",
   "metadata": {},
   "outputs": [],
   "source": [
    "# E5 is on a quarter degree lat lon. Need to round to the nearest quarter to get the same dimensions for compositing.\n",
    "lat = np.round(df_lmi.klat.values*4.0, 0)/4.0\n",
    "lon = df_lmi.klon.values\n",
    "lon = np.where(lon <= 0., lon+360., lon)\n",
    "lon = np.round(lon*4.0, 0)/4.0 \n",
    "vmax = df_lmi.lmi.values"
   ]
  },
  {
   "cell_type": "markdown",
   "id": "989aef3a-45b4-47dc-8c97-5f976b81801b",
   "metadata": {},
   "source": [
    "#### Calculate wind shear from ERA5"
   ]
  },
  {
   "cell_type": "code",
   "execution_count": 10,
   "id": "6bd88a6c-eb6c-41eb-8cd6-e5f4033ee1a4",
   "metadata": {},
   "outputs": [
    {
     "name": "stdout",
     "output_type": "stream",
     "text": [
      "1 4108 /glade/campaign/collections/rda/data/ds633.0/e5.oper.an.pl/197901/e5.oper.an.pl.128_131_u.ll025uv.1979010800_1979010823.nc\n",
      "101 4108 /glade/campaign/collections/rda/data/ds633.0/e5.oper.an.pl/197911/e5.oper.an.pl.128_131_u.ll025uv.1979112900_1979112923.nc\n",
      "201 4108 /glade/campaign/collections/rda/data/ds633.0/e5.oper.an.pl/198107/e5.oper.an.pl.128_131_u.ll025uv.1981072400_1981072423.nc\n",
      "301 4108 /glade/campaign/collections/rda/data/ds633.0/e5.oper.an.pl/198206/e5.oper.an.pl.128_131_u.ll025uv.1982061600_1982061623.nc\n",
      "401 4108 /glade/campaign/collections/rda/data/ds633.0/e5.oper.an.pl/198307/e5.oper.an.pl.128_131_u.ll025uv.1983071000_1983071023.nc\n",
      "501 4108 /glade/campaign/collections/rda/data/ds633.0/e5.oper.an.pl/198404/e5.oper.an.pl.128_131_u.ll025uv.1984040900_1984040923.nc\n",
      "601 4108 /glade/campaign/collections/rda/data/ds633.0/e5.oper.an.pl/198501/e5.oper.an.pl.128_131_u.ll025uv.1985011400_1985011423.nc\n",
      "701 4108 /glade/campaign/collections/rda/data/ds633.0/e5.oper.an.pl/198510/e5.oper.an.pl.128_131_u.ll025uv.1985102500_1985102523.nc\n",
      "801 4108 /glade/campaign/collections/rda/data/ds633.0/e5.oper.an.pl/198609/e5.oper.an.pl.128_131_u.ll025uv.1986091600_1986091623.nc\n",
      "901 4108 /glade/campaign/collections/rda/data/ds633.0/e5.oper.an.pl/198709/e5.oper.an.pl.128_131_u.ll025uv.1987090700_1987090723.nc\n",
      "1001 4108 /glade/campaign/collections/rda/data/ds633.0/e5.oper.an.pl/198808/e5.oper.an.pl.128_131_u.ll025uv.1988082800_1988082823.nc\n",
      "1101 4108 /glade/campaign/collections/rda/data/ds633.0/e5.oper.an.pl/198907/e5.oper.an.pl.128_131_u.ll025uv.1989070800_1989070823.nc\n",
      "1201 4108 /glade/campaign/collections/rda/data/ds633.0/e5.oper.an.pl/199004/e5.oper.an.pl.128_131_u.ll025uv.1990041000_1990041023.nc\n",
      "1301 4108 /glade/campaign/collections/rda/data/ds633.0/e5.oper.an.pl/199101/e5.oper.an.pl.128_131_u.ll025uv.1991011400_1991011423.nc\n",
      "1401 4108 /glade/campaign/collections/rda/data/ds633.0/e5.oper.an.pl/199112/e5.oper.an.pl.128_131_u.ll025uv.1991122800_1991122823.nc\n",
      "1501 4108 /glade/campaign/collections/rda/data/ds633.0/e5.oper.an.pl/199210/e5.oper.an.pl.128_131_u.ll025uv.1992100100_1992100123.nc\n",
      "1601 4108 /glade/campaign/collections/rda/data/ds633.0/e5.oper.an.pl/199309/e5.oper.an.pl.128_131_u.ll025uv.1993091400_1993091423.nc\n",
      "1701 4108 /glade/campaign/collections/rda/data/ds633.0/e5.oper.an.pl/199408/e5.oper.an.pl.128_131_u.ll025uv.1994081500_1994081523.nc\n",
      "1801 4108 /glade/campaign/collections/rda/data/ds633.0/e5.oper.an.pl/199508/e5.oper.an.pl.128_131_u.ll025uv.1995082000_1995082023.nc\n",
      "1901 4108 /glade/campaign/collections/rda/data/ds633.0/e5.oper.an.pl/199607/e5.oper.an.pl.128_131_u.ll025uv.1996071300_1996071323.nc\n",
      "2001 4108 /glade/campaign/collections/rda/data/ds633.0/e5.oper.an.pl/199704/e5.oper.an.pl.128_131_u.ll025uv.1997041600_1997041623.nc\n",
      "2101 4108 /glade/campaign/collections/rda/data/ds633.0/e5.oper.an.pl/199801/e5.oper.an.pl.128_131_u.ll025uv.1998013100_1998013123.nc\n",
      "2201 4108 /glade/campaign/collections/rda/data/ds633.0/e5.oper.an.pl/199901/e5.oper.an.pl.128_131_u.ll025uv.1999010200_1999010223.nc\n",
      "2301 4108 /glade/campaign/collections/rda/data/ds633.0/e5.oper.an.pl/199912/e5.oper.an.pl.128_131_u.ll025uv.1999120800_1999120823.nc\n",
      "2401 4108 /glade/campaign/collections/rda/data/ds633.0/e5.oper.an.pl/200010/e5.oper.an.pl.128_131_u.ll025uv.2000101600_2000101623.nc\n",
      "2501 4108 /glade/campaign/collections/rda/data/ds633.0/e5.oper.an.pl/200110/e5.oper.an.pl.128_131_u.ll025uv.2001101300_2001101323.nc\n",
      "2601 4108 /glade/campaign/collections/rda/data/ds633.0/e5.oper.an.pl/200209/e5.oper.an.pl.128_131_u.ll025uv.2002092400_2002092423.nc\n",
      "2701 4108 /glade/campaign/collections/rda/data/ds633.0/e5.oper.an.pl/200309/e5.oper.an.pl.128_131_u.ll025uv.2003092200_2003092223.nc\n",
      "2801 4108 /glade/campaign/collections/rda/data/ds633.0/e5.oper.an.pl/200409/e5.oper.an.pl.128_131_u.ll025uv.2004091200_2004091223.nc\n",
      "2901 4108 /glade/campaign/collections/rda/data/ds633.0/e5.oper.an.pl/200509/e5.oper.an.pl.128_131_u.ll025uv.2005090600_2005090623.nc\n",
      "3001 4108 /glade/campaign/collections/rda/data/ds633.0/e5.oper.an.pl/200608/e5.oper.an.pl.128_131_u.ll025uv.2006082100_2006082123.nc\n",
      "3101 4108 /glade/campaign/collections/rda/data/ds633.0/e5.oper.an.pl/200709/e5.oper.an.pl.128_131_u.ll025uv.2007091100_2007091123.nc\n",
      "3201 4108 /glade/campaign/collections/rda/data/ds633.0/e5.oper.an.pl/200809/e5.oper.an.pl.128_131_u.ll025uv.2008090400_2008090423.nc\n",
      "3301 4108 /glade/campaign/collections/rda/data/ds633.0/e5.oper.an.pl/200909/e5.oper.an.pl.128_131_u.ll025uv.2009090200_2009090223.nc\n",
      "3401 4108 /glade/campaign/collections/rda/data/ds633.0/e5.oper.an.pl/201009/e5.oper.an.pl.128_131_u.ll025uv.2010092800_2010092823.nc\n",
      "3501 4108 /glade/campaign/collections/rda/data/ds633.0/e5.oper.an.pl/201110/e5.oper.an.pl.128_131_u.ll025uv.2011102300_2011102323.nc\n",
      "3601 4108 /glade/campaign/collections/rda/data/ds633.0/e5.oper.an.pl/201211/e5.oper.an.pl.128_131_u.ll025uv.2012112000_2012112023.nc\n",
      "3701 4108 /glade/campaign/collections/rda/data/ds633.0/e5.oper.an.pl/201311/e5.oper.an.pl.128_131_u.ll025uv.2013111800_2013111823.nc\n",
      "3801 4108 /glade/campaign/collections/rda/data/ds633.0/e5.oper.an.pl/201412/e5.oper.an.pl.128_131_u.ll025uv.2014122600_2014122623.nc\n",
      "3901 4108 /glade/campaign/collections/rda/data/ds633.0/e5.oper.an.pl/201511/e5.oper.an.pl.128_131_u.ll025uv.2015112000_2015112023.nc\n",
      "4001 4108 /glade/campaign/collections/rda/data/ds633.0/e5.oper.an.pl/201612/e5.oper.an.pl.128_131_u.ll025uv.2016121900_2016121923.nc\n",
      "4101 4108 /glade/campaign/collections/rda/data/ds633.0/e5.oper.an.pl/201711/e5.oper.an.pl.128_131_u.ll025uv.2017112500_2017112523.nc\n",
      "output /glade/derecho/scratch/mingge/ERA5/global_lmi_e5_lag2d_0.5radius.nc\n",
      "CPU times: user 3h 1min 7s, sys: 22min 46s, total: 3h 23min 53s\n",
      "Wall time: 5h 42min 43s\n"
     ]
    }
   ],
   "source": [
    "%%time\n",
    "dir_era5 = \"/glade/campaign/collections/rda/data/ds633.0/e5.oper.an.pl/\"\n",
    "#### note to safe time, I write 100 instead of all  TC LMI \n",
    " \n",
    "shear = np.zeros((ntim))\n",
    "for nt in range(ntim):\n",
    "    dir = dir_era5 + yyyys[nt] + mms[nt] + \"/\" \n",
    "    flnm_u = dir + \"e5.oper.an.pl.128_131_u.ll025uv.\" + yyyys[nt] + mms[nt] + dds[nt] + \"00_\" + yyyys[nt] + mms[nt] + dds[nt] + \"23.nc\"\n",
    "     \n",
    "    if nt - int(nt/100)*100 == 1:\n",
    "        print(nt, ntim, flnm_u)\n",
    "     \n",
    "    with xr.open_dataset(flnm_u) as ds_u:\n",
    "        U200 = ds_u.U[hh[nt]].sel(level=200, latitude=slice(lat[nt]+rr, lat[nt]-rr), longitude=slice(lon[nt]-rr,lon[nt]+rr))\n",
    "        U850 = ds_u.U[hh[nt]].sel(level=850, latitude=slice(lat[nt]+rr, lat[nt]-rr), longitude=slice(lon[nt]-rr,lon[nt]+rr))\n",
    "\n",
    "    flnm_v = dir + \"e5.oper.an.pl.128_132_v.ll025uv.\" + yyyys[nt] + mms[nt] + dds[nt] + \"00_\" + yyyys[nt] + mms[nt] + dds[nt] + \"23.nc\"\n",
    "    \n",
    "    with xr.open_dataset(flnm_v) as ds_v:    \n",
    "        V200 = ds_v.V[hh[nt]].sel(level=200, latitude=slice(lat[nt]+rr, lat[nt]-rr), longitude=slice(lon[nt]-rr,lon[nt]+rr))\n",
    "        V850 = ds_v.V[hh[nt]].sel(level=850, latitude=slice(lat[nt]+rr, lat[nt]-rr), longitude=slice(lon[nt]-rr,lon[nt]+rr))\n",
    "\n",
    "    shear[nt] = (np.sqrt(np.square(U200-U850) + np.square(V200-V850))).mean()\n",
    "\n",
    "ds = xr.Dataset({'shear': ((\"time\"), shear.astype(float))},\n",
    "                 coords={\"time\": yyyymmddhh[:ntim]},\n",
    "    attrs=dict(description=\"Vertical wind shear [[U200-U850]^2+[V200-V850]^2]^0.5\", unit='m/s')\n",
    ")    \n",
    "\n",
    "dir_o = '/glade/derecho/scratch/mingge/ERA5/'\n",
    "flnm_o = dir_o + 'global_lmi_e5_lag' + str(lag) + 'd_' + str(rr) + \"radius.nc\"\n",
    "print('output', flnm_o)\n",
    "ds.to_netcdf(flnm_o)    \n",
    " "
   ]
  },
  {
   "cell_type": "markdown",
   "id": "f2e991e3-93a6-4ef2-a0b2-8d8e020b706a",
   "metadata": {},
   "source": [
    "#### check results"
   ]
  },
  {
   "cell_type": "code",
   "execution_count": 11,
   "id": "8fb4ef22-0b09-4367-ac1b-1bb2fad3c7d4",
   "metadata": {},
   "outputs": [
    {
     "data": {
      "image/png": "[encoded data removed]",
      "text/plain": [
       "<Figure size 640x480 with 1 Axes>"
      ]
     },
     "metadata": {},
     "output_type": "display_data"
    }
   ],
   "source": [
    "with xr.open_dataset(flnm_o) as ds_o:\n",
    "    ds_o.shear.plot()"
   ]
  },
  {
   "cell_type": "code",
   "execution_count": 12,
   "id": "ff541acd-5148-493a-a244-25eb0ae566c9",
   "metadata": {},
   "outputs": [
    {
     "data": {
      "text/plain": [
       "array([ 9.35303879, 13.05090618, 12.98942375, 38.14584351,  5.86399794,\n",
       "       14.23150063,  5.91793823, 23.54749298, 18.57963943,  3.74462986,\n",
       "       22.91702843, 11.75391388, 12.27822018, 15.1452322 ,  8.62131119,\n",
       "        8.85228348, 13.3624239 ,  7.09553051,  4.96715736, 11.62742424,\n",
       "       12.04391575, 31.65298653,  9.64698601, 12.80829144,  9.78055954,\n",
       "        9.38085651, 14.14165115,  9.65951347,  6.12239075,  3.17018223,\n",
       "       13.57978535,  3.6851542 ,  9.42076969, 23.42978096,  4.29597235,\n",
       "       11.93177414,  7.82146072,  4.25910091, 10.37646484,  6.02183485,\n",
       "       21.39483643, 20.56653023,  6.47513294, 13.47907352, 17.25056458,\n",
       "        2.69900513, 17.93314934, 19.43942833, 16.57500267,  7.79765987,\n",
       "       25.83116913, 11.34938812,  4.64283228, 13.92128181, 14.62882042,\n",
       "       10.26036644,  2.3785789 ,  4.21437645, 10.36607265, 23.17540359,\n",
       "        7.29198122, 16.67049026,  6.32461739, 16.05723953, 15.31483078,\n",
       "       10.8082552 , 24.04151154, 11.64385509, 21.86220169,  8.91227341,\n",
       "        7.7748456 ,  5.94021177, 11.32673931, 13.55462933, 11.42987061,\n",
       "       12.52692413,  6.81345034,  9.38796616,  4.57466793, 20.29790688,\n",
       "        7.06681204, 21.8115139 , 16.22677803, 13.61461449,  9.12054253,\n",
       "       14.02954865,  6.70010805, 22.98264122,  3.16067958,  8.62903214,\n",
       "       18.62508774, 18.07845306,  6.06520081, 11.5033989 , 10.17914772,\n",
       "       21.64984894, 10.23336411,  8.45868683, 18.46496582, 18.7910099 ])"
      ]
     },
     "execution_count": 12,
     "metadata": {},
     "output_type": "execute_result"
    }
   ],
   "source": [
    "ds_o.shear.data[:100]"
   ]
  },
  {
   "cell_type": "code",
   "execution_count": null,
   "id": "3a0a4b36-7e2c-4385-a2c8-94ee50f6b559",
   "metadata": {},
   "outputs": [],
   "source": []
  }
 ],
 "metadata": {
  "kernelspec": {
   "display_name": "Python [conda env:miniforge3-casper_2023]",
   "language": "python",
   "name": "conda-env-miniforge3-casper_2023-py"
  },
  "language_info": {
   "codemirror_mode": {
    "name": "ipython",
    "version": 3
   },
   "file_extension": ".py",
   "mimetype": "text/x-python",
   "name": "python",
   "nbconvert_exporter": "python",
   "pygments_lexer": "ipython3",
   "version": "3.10.12"
  }
 },
 "nbformat": 4,
 "nbformat_minor": 5
}
